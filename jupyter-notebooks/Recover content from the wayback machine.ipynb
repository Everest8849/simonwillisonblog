{
 "cells": [
  {
   "cell_type": "code",
   "execution_count": 1,
   "metadata": {},
   "outputs": [],
   "source": [
    "filepath = '/Users/simonw/Dropbox/Backups/simonwillison-net-from-wayback-machine/wayback-machine-simonwillison-net-6-oct-2017.tar.gz'"
   ]
  },
  {
   "cell_type": "code",
   "execution_count": 2,
   "metadata": {},
   "outputs": [],
   "source": [
    "import tarfile\n",
    "tar = tarfile.open(filepath, 'r:gz')"
   ]
  },
  {
   "cell_type": "code",
   "execution_count": 3,
   "metadata": {},
   "outputs": [],
   "source": [
    "paths = [info.name for info in tar if info.isreg()]"
   ]
  },
  {
   "cell_type": "code",
   "execution_count": 4,
   "metadata": {},
   "outputs": [
    {
     "data": {
      "text/plain": [
       "19146"
      ]
     },
     "execution_count": 4,
     "metadata": {},
     "output_type": "execute_result"
    }
   ],
   "source": [
    "len(paths)"
   ]
  },
  {
   "cell_type": "code",
   "execution_count": 5,
   "metadata": {},
   "outputs": [
    {
     "data": {
      "text/plain": [
       "'simonwillison.net/all.css'"
      ]
     },
     "execution_count": 5,
     "metadata": {},
     "output_type": "execute_result"
    }
   ],
   "source": [
    "paths[0]"
   ]
  },
  {
   "cell_type": "code",
   "execution_count": 6,
   "metadata": {},
   "outputs": [],
   "source": [
    "import re\n",
    "r = re.compile(r'^simonwillison\\.net/(\\d{4})/(\\w+)/(\\d+)/([^/]+)/index\\.html')"
   ]
  },
  {
   "cell_type": "code",
   "execution_count": 9,
   "metadata": {},
   "outputs": [],
   "source": [
    "item_paths = set('/' + p.replace('index.html', '').split('/', 1)[1] for p in paths if r.match(p))"
   ]
  },
  {
   "cell_type": "code",
   "execution_count": 11,
   "metadata": {},
   "outputs": [
    {
     "data": {
      "text/plain": [
       "(7358, '/2004/Jul/22/magical/')"
      ]
     },
     "execution_count": 11,
     "metadata": {},
     "output_type": "execute_result"
    }
   ],
   "source": [
    "len(item_paths), list(item_paths)[0]"
   ]
  },
  {
   "cell_type": "code",
   "execution_count": 12,
   "metadata": {},
   "outputs": [],
   "source": [
    "MYPROJECT = '/Users/simonw/Dropbox/Development/simonwillisonblog/'\n",
    "import os, sys\n",
    "sys.path.insert(0, MYPROJECT)\n",
    "os.environ.setdefault(\"DJANGO_SETTINGS_MODULE\", \"config.settings\")\n",
    "import django\n",
    "django.setup()"
   ]
  },
  {
   "cell_type": "code",
   "execution_count": 13,
   "metadata": {},
   "outputs": [],
   "source": [
    "from blog.models import Entry, Blogmark, Quotation"
   ]
  },
  {
   "cell_type": "code",
   "execution_count": 71,
   "metadata": {},
   "outputs": [],
   "source": [
    "db_paths = set()\n",
    "for klass in (Entry, Blogmark, Quotation):\n",
    "    for obj in klass.objects.all():\n",
    "        url = obj.get_absolute_url()\n",
    "        db_paths.add(str(url))"
   ]
  },
  {
   "cell_type": "code",
   "execution_count": 72,
   "metadata": {},
   "outputs": [],
   "source": [
    "missing = [p for p in item_paths if p not in db_paths and '#' not in p]"
   ]
  },
  {
   "cell_type": "code",
   "execution_count": 74,
   "metadata": {},
   "outputs": [
    {
     "data": {
      "text/plain": [
       "225"
      ]
     },
     "execution_count": 74,
     "metadata": {},
     "output_type": "execute_result"
    }
   ],
   "source": [
    "len(missing)"
   ]
  },
  {
   "cell_type": "code",
   "execution_count": 45,
   "metadata": {},
   "outputs": [],
   "source": [
    "def extract_comments(soup):\n",
    "    comments = []\n",
    "    for div in soup.findAll('div', {'class': 'comment'}):\n",
    "        id = div['id'].replace('c', '')\n",
    "        footer = div.find('p', {'class': 'commentFooter'})\n",
    "        if len(footer.findAll('a')) == 2:\n",
    "            author = footer.find('a').text.strip()\n",
    "            author_href = footer.find('a')['href']\n",
    "            footer.find('a').extract()\n",
    "        else:\n",
    "            author = footer.text.rsplit('-', 2)[0].strip()\n",
    "            author_href = None\n",
    "        datestring = footer.text.rsplit('-', 2)[1].strip()\n",
    "        footer.extract()\n",
    "        comments.append({\n",
    "            'id': id,\n",
    "            'author': author,\n",
    "            'author_href': author_href,\n",
    "            'datetime': str(parser.parse(datestring)),\n",
    "            'html': u''.join(map(unicode, div.contents)).strip(),\n",
    "        })\n",
    "    return comments\n"
   ]
  },
  {
   "cell_type": "code",
   "execution_count": 39,
   "metadata": {},
   "outputs": [],
   "source": [
    "from dateutil import parser\n",
    "from BeautifulSoup import BeautifulSoup as Soup\n",
    "from HTMLParser import HTMLParser"
   ]
  },
  {
   "cell_type": "code",
   "execution_count": 46,
   "metadata": {},
   "outputs": [],
   "source": [
    "def soup_to_item(soup):\n",
    "    div = soup.find('div', {'class': 'entry entryPage'})\n",
    "    footer = div.find('div', {'class': 'entryFooter'})\n",
    "    datetime = str(parser.parse(footer.find('a').text + ' ' + footer.text.split('at ')[1]))\n",
    "    footer.extract()\n",
    "    d = {\n",
    "        'datetime': datetime,\n",
    "        'tags': [a.text for a in soup.findAll('a', {'rel': 'tag'})],\n",
    "        'comments': extract_comments(soup),\n",
    "    }\n",
    "    # Is it a blogmark, an entry or a quotation?\n",
    "    type = None\n",
    "    if div.find('h2'):\n",
    "        type = 'entry'\n",
    "        d.update({\n",
    "            'body': u''.join(map(unicode, div.contents)).strip(),\n",
    "            'title': HTMLParser().unescape(div.find('h2').text)\n",
    "        })\n",
    "    elif div.find('blockquote'):\n",
    "        type = 'quotation'\n",
    "        d.update({\n",
    "            'quotation': HTMLParser().unescape(div.find('blockquote').find('p').text),\n",
    "            'source': HTMLParser().unescape(div.find('a').text),\n",
    "            'source_url': div.find('a')['href'],\n",
    "        })\n",
    "    else:\n",
    "        type = 'blogmark'\n",
    "        a = div.find('a')\n",
    "        link_url = a['href']\n",
    "        link_title = HTMLParser().unescape(a.text)\n",
    "        a.extract()\n",
    "        via = div.find('a', title=True)\n",
    "        via_url = None\n",
    "        via_title = None\n",
    "        if via:\n",
    "            via_url = via['href']\n",
    "            via_title = via['title']\n",
    "            via.extract()\n",
    "        commentary = HTMLParser().unescape(div.find('p').text or '')\n",
    "        if commentary.startswith('() '):\n",
    "            commentary = commentary[3:]\n",
    "        if commentary.startswith('. '):\n",
    "            commentary = commentary[2:]\n",
    "        d.update({\n",
    "            'link_url': link_url,\n",
    "            'link_title': link_title,\n",
    "            'via_url': via_url,\n",
    "            'via_title': via_title,\n",
    "            'commentary': commentary,\n",
    "        })\n",
    "    d['type'] = type\n",
    "    return d\n"
   ]
  },
  {
   "cell_type": "code",
   "execution_count": null,
   "metadata": {
    "scrolled": true
   },
   "outputs": [],
   "source": [
    "items = []\n",
    "i = 0\n",
    "for path in missing:\n",
    "    html = tar.extractfile('simonwillison.net%sindex.html' % path).read()\n",
    "    soup = Soup(html)\n",
    "    item = soup_to_item(soup)\n",
    "    item['slug'] = [b for b in path.split('/') if b][-1]\n",
    "    items.append(item)\n",
    "    i += 1"
   ]
  },
  {
   "cell_type": "code",
   "execution_count": 55,
   "metadata": {},
   "outputs": [
    {
     "data": {
      "text/plain": [
       "225"
      ]
     },
     "execution_count": 55,
     "metadata": {},
     "output_type": "execute_result"
    }
   ],
   "source": [
    "len(items)"
   ]
  },
  {
   "cell_type": "code",
   "execution_count": 56,
   "metadata": {},
   "outputs": [],
   "source": [
    "import json\n",
    "open('/tmp/missing-content.json', 'w').write(json.dumps(items, indent=2))"
   ]
  },
  {
   "cell_type": "code",
   "execution_count": 57,
   "metadata": {},
   "outputs": [],
   "source": [
    "!cat /tmp/missing-content.json | pbcopy"
   ]
  },
  {
   "cell_type": "code",
   "execution_count": 51,
   "metadata": {},
   "outputs": [],
   "source": [
    "!subl /tmp/missing-content.json"
   ]
  },
  {
   "cell_type": "code",
   "execution_count": 75,
   "metadata": {},
   "outputs": [
    {
     "data": {
      "text/plain": [
       "225"
      ]
     },
     "execution_count": 75,
     "metadata": {},
     "output_type": "execute_result"
    }
   ],
   "source": [
    "len(items)"
   ]
  },
  {
   "cell_type": "code",
   "execution_count": 77,
   "metadata": {},
   "outputs": [
    {
     "data": {
      "text/plain": [
       "{'body': u'<h2>JSP bits and pieces</h2>\\n<p>I\\u2019ve been reading up on the Jakarta Struts <acronym title=\"Model View Controller\">MVC</acronym> framework, courtesy of <a href=\"http://www.brunningonline.net/simon/blog/archives/000357.html\" title=\"JSPs, the MVC model, and Struts\">Simon Brunning</a>. <a href=\"http://www-106.ibm.com/developerworks/java/library/j-struts/index.html#h1\">Struts, an open-source MVC implementation</a> is a great starting point, and the ONJava <a href=\"http://www.onjava.com/onjava/jsp_servlets/\">JSP/JSTL series</a> (also found <a href=\"http://www.brunningonline.net/simon/blog/archives/000512.html#000512\" title=\"O\\'Reilly Struts article\">via Simon</a>) were very informative as well.</p>',\n",
       " 'comments': [],\n",
       " 'datetime': '2002-11-01 14:56:00',\n",
       " 'slug': 'jspbitsandpieces',\n",
       " 'tags': [],\n",
       " 'title': u'JSP bits and pieces',\n",
       " 'type': 'entry'}"
      ]
     },
     "execution_count": 77,
     "metadata": {},
     "output_type": "execute_result"
    }
   ],
   "source": [
    "items[-1]"
   ]
  },
  {
   "cell_type": "code",
   "execution_count": null,
   "metadata": {},
   "outputs": [],
   "source": []
  }
 ],
 "metadata": {
  "kernelspec": {
   "display_name": "Python 2",
   "language": "python",
   "name": "python2"
  },
  "language_info": {
   "codemirror_mode": {
    "name": "ipython",
    "version": 2
   },
   "file_extension": ".py",
   "mimetype": "text/x-python",
   "name": "python",
   "nbconvert_exporter": "python",
   "pygments_lexer": "ipython2",
   "version": "2.7.12"
  }
 },
 "nbformat": 4,
 "nbformat_minor": 2
}
