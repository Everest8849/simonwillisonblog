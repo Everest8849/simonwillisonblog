{
 "cells": [
  {
   "cell_type": "code",
   "execution_count": 1,
   "metadata": {
    "collapsed": true
   },
   "outputs": [],
   "source": [
    "url = 'http://www.metafilter.com/activity/18146/comments/ask/'"
   ]
  },
  {
   "cell_type": "code",
   "execution_count": 2,
   "metadata": {
    "collapsed": true
   },
   "outputs": [],
   "source": [
    "import requests\n",
    "from BeautifulSoup import BeautifulSoup as Soup"
   ]
  },
  {
   "cell_type": "code",
   "execution_count": 4,
   "metadata": {
    "collapsed": true
   },
   "outputs": [],
   "source": [
    "page1 = Soup(requests.get(url).content)"
   ]
  },
  {
   "cell_type": "code",
   "execution_count": 5,
   "metadata": {
    "collapsed": true
   },
   "outputs": [],
   "source": [
    "page2 = Soup(requests.get('http://www.metafilter.com/activity/18146/comments/ask/2/').content)"
   ]
  },
  {
   "cell_type": "code",
   "execution_count": 7,
   "metadata": {
    "collapsed": true
   },
   "outputs": [],
   "source": [
    "divs = page1.findAll('div', {'class': 'copy'})"
   ]
  },
  {
   "cell_type": "code",
   "execution_count": 10,
   "metadata": {},
   "outputs": [
    {
     "data": {
      "text/plain": [
       "u'http://ask.metafilter.com/315108/Late-night-dining-near-Great-American-Music-Hall#4551046'"
      ]
     },
     "execution_count": 10,
     "metadata": {},
     "output_type": "execute_result"
    }
   ],
   "source": [
    "divs[0].findAll('a')[-1]['href']"
   ]
  },
  {
   "cell_type": "code",
   "execution_count": 15,
   "metadata": {
    "collapsed": true
   },
   "outputs": [],
   "source": [
    "urls = []\n",
    "for page in (page1, page2):\n",
    "    divs = page.findAll('div', {'class': 'copy'})\n",
    "    for div in divs:\n",
    "        for blockquote in div.findAll('blockquote'):\n",
    "            urls.append(blockquote.findAll('a')[-1]['href'])"
   ]
  },
  {
   "cell_type": "code",
   "execution_count": 16,
   "metadata": {},
   "outputs": [
    {
     "data": {
      "text/plain": [
       "[u'http://ask.metafilter.com/315108/Late-night-dining-near-Great-American-Music-Hall#4551046',\n",
       " u'http://ask.metafilter.com/310900/How-to-kumbaya-with-the-remote-team#4494022',\n",
       " u'http://ask.metafilter.com/310777/Software-or-project-management-technique-for-DIY-home-renovations#4492332',\n",
       " u'http://ask.metafilter.com/310330/Free-Afternoon-in-San-Francisco-with-no-car#4486981',\n",
       " u'http://ask.metafilter.com/309760/A-thing-to-do-in-London-that-is-special-unusual-and-fun#4480153',\n",
       " u'http://ask.metafilter.com/308605/Podcasts-for-commuting-to#4465092',\n",
       " u'http://ask.metafilter.com/307865/Looking-for-a-modern-day-wiki-for-a-group-project#4454765',\n",
       " u'http://ask.metafilter.com/306584/How-do-I-receive-automatic-updates-from-a-Facebook-group-by-email#4437750',\n",
       " u'http://ask.metafilter.com/306419/Where-do-you-like-to-eat-in-London#4435791',\n",
       " u'http://ask.metafilter.com/306429/Work-process-vs-technology#4435787',\n",
       " u'http://ask.metafilter.com/305383/Podcasts-to-love-and-fall-asleep-to#4421965',\n",
       " u'http://ask.metafilter.com/305358/Where-to-find-well-balanced-rationals-behind-Trump-policies#4421824',\n",
       " u'http://ask.metafilter.com/305292/San-Francisco-Recommendations-comics-fashion-food-and-more#4421101',\n",
       " u'http://ask.metafilter.com/305246/A-guide-to-the-guides-to-Paris#4419885',\n",
       " u'http://ask.metafilter.com/305246/A-guide-to-the-guides-to-Paris#4420168',\n",
       " u'http://ask.metafilter.com/304700/Help-us-plan-a-trip-to-the-English-countryside#4412155',\n",
       " u'http://ask.metafilter.com/304609/Simple-delicious-eating-during-long-weekend-in-the-mountains#4410981',\n",
       " u'http://ask.metafilter.com/304515/Wireless-access-points-or-mesh-networking#4409658',\n",
       " u'http://ask.metafilter.com/304258/How-to-tell-my-bosses-Im-bored#4406351',\n",
       " u'http://ask.metafilter.com/303489/Off-the-shelf-question-database-management-system-for-repeated-surveys#4395053',\n",
       " u'http://ask.metafilter.com/303085/Best-way-to-take-shareable-meeting-minutes#4389430',\n",
       " u'http://ask.metafilter.com/303050/Good-travel-book-for-recently-retired-man#4389055',\n",
       " u'http://ask.metafilter.com/303041/Generating-interactive-HTML-charts-from-Python#4388982',\n",
       " u'http://ask.metafilter.com/301871/Tell-me-when-to-quit#4375778',\n",
       " u'http://ask.metafilter.com/301504/Practical-gift-ideas-to-positively-improve-a-friends-life-and-hobbies#4367888',\n",
       " u'http://ask.metafilter.com/301455/Probably-need-to-GTFO-another-how-do-I-spin-leaving-question#4367237',\n",
       " u'http://ask.metafilter.com/301197/Where-should-we-stay-in-Nashville#4363623',\n",
       " u'http://ask.metafilter.com/301190/Japanese-pantry-staples#4363466',\n",
       " u'http://ask.metafilter.com/301078/Difficulty-level-Eating-dumplings#4362119',\n",
       " u'http://ask.metafilter.com/300996/Need-new-noms#4360763',\n",
       " u'http://ask.metafilter.com/300357/Lovecraft-inspired-fiction-and-cookbooks-unrelated#4351289',\n",
       " u'http://ask.metafilter.com/300311/Lets-make-moving-and-packing-FUN-again#4350492',\n",
       " u'http://ask.metafilter.com/300070/Help-with-next-steps-for-a-startup#4346976',\n",
       " u'http://ask.metafilter.com/300070/Help-with-next-steps-for-a-startup#4347072',\n",
       " u'http://ask.metafilter.com/295780/Im-in-Polanco-Mexico-City-and-I-hate-it-Where-to-go#4284582',\n",
       " u'http://ask.metafilter.com/290107/Weekend-travel-in-Europe#4202466',\n",
       " u'http://ask.metafilter.com/167075/Nile-Cruises-Does-the-Oberoi-Shehrayar-actually-exist#2402197',\n",
       " u'http://ask.metafilter.com/167075/Nile-Cruises-Does-the-Oberoi-Shehrayar-actually-exist#2402202',\n",
       " u'http://ask.metafilter.com/167075/Nile-Cruises-Does-the-Oberoi-Shehrayar-actually-exist#2402206',\n",
       " u'http://ask.metafilter.com/167075/Nile-Cruises-Does-the-Oberoi-Shehrayar-actually-exist#2404105',\n",
       " u'http://ask.metafilter.com/73617/Getting-from-point-A-to-B-the-right-way#1095266',\n",
       " u'http://ask.metafilter.com/69276/Website-for-the-masses#1035251',\n",
       " u'http://ask.metafilter.com/67743/What-to-do-on-vacation#1014712',\n",
       " u'http://ask.metafilter.com/64427/Help-me-figure-out-my-Macbook-Pro#969250',\n",
       " u'http://ask.metafilter.com/63715/Problems-with-XHTML-content-type#958616',\n",
       " u'http://ask.metafilter.com/63715/Problems-with-XHTML-content-type#958688',\n",
       " u'http://ask.metafilter.com/60452/San-Diego-tell-me-more#910153',\n",
       " u'http://ask.metafilter.com/59584/Stupid-computersdo-what-I-want#896267',\n",
       " u'http://ask.metafilter.com/57644/Warning-this-is-a-bad-site#866611',\n",
       " u'http://ask.metafilter.com/57644/Warning-this-is-a-bad-site#866613',\n",
       " u'http://ask.metafilter.com/55146/How-can-my-nontechsavvy-Mum-maintain-her-own-website#829862',\n",
       " u'http://ask.metafilter.com/53894/How-is-Google-giving-me-access-to-this-page#811885',\n",
       " u'http://ask.metafilter.com/53831/Sending-a-postal-letter-via-the-internets#811027',\n",
       " u'http://ask.metafilter.com/53779/What-is-the-physically-smallest-and-cheapest-laptop-capable-of-running-OS-X#810474',\n",
       " u'http://ask.metafilter.com/37948/So-long-Safari#587217',\n",
       " u'http://ask.metafilter.com/32736/Patching-Windows-XP-from-burned-CDs#511274',\n",
       " u'http://ask.metafilter.com/32736/Patching-Windows-XP-from-burned-CDs#511281',\n",
       " u'http://ask.metafilter.com/32690/What-are-some-good-software-developmentopen-source-blogs#510893',\n",
       " u'http://ask.metafilter.com/31586/Can-social-bookmarking-services-prevent-a-bookmark-from-becoming-dead-links#495066',\n",
       " u'http://ask.metafilter.com/29734/Get-tickets-for-filming-of-Jools-Hollands-TV-show#469086',\n",
       " u'http://ask.metafilter.com/20151/Space-Shuttle-Columbia-Accident#329865',\n",
       " u'http://ask.metafilter.com/15300/Do-Content-Management-Systems-really-work#262960',\n",
       " u'http://ask.metafilter.com/14075/I-need-a-new-backpack#242583']"
      ]
     },
     "execution_count": 16,
     "metadata": {},
     "output_type": "execute_result"
    }
   ],
   "source": [
    "urls"
   ]
  },
  {
   "cell_type": "code",
   "execution_count": 17,
   "metadata": {},
   "outputs": [
    {
     "data": {
      "text/plain": [
       "63"
      ]
     },
     "execution_count": 17,
     "metadata": {},
     "output_type": "execute_result"
    }
   ],
   "source": [
    "len(urls)"
   ]
  },
  {
   "cell_type": "code",
   "execution_count": 96,
   "metadata": {
    "collapsed": true
   },
   "outputs": [],
   "source": [
    "def get_comment(url):\n",
    "    url, hash = url.split('#')\n",
    "    soup = Soup(requests.get(url).content.decode('utf8'))\n",
    "    div = soup.find('div', {'id': 'c' + hash})\n",
    "    span = div.find('span', {'class': 'smallcopy'})\n",
    "    time = span.findAll('a', {'target': '_self'})[-1].text\n",
    "    date = span.renderContents().split(' on ')[-1].strip().split(' [')[0]\n",
    "    span.extract()\n",
    "    html = div.renderContents().decode('utf8')\n",
    "    if html.endswith('<br />'):\n",
    "        html = html[:-(len('<br />'))]\n",
    "    return {\n",
    "        'title': soup.find('h1', {'class': 'posttitle'}).renderContents().split('<br')[0],\n",
    "        'date': date,\n",
    "        'time': time,\n",
    "        'html': html,\n",
    "        'url': url,\n",
    "        'comment_id': hash,\n",
    "        'tags': [a.text for a in soup.findAll('a', {'rel': 'tag'})],\n",
    "    }"
   ]
  },
  {
   "cell_type": "code",
   "execution_count": 97,
   "metadata": {
    "scrolled": false
   },
   "outputs": [
    {
     "name": "stdout",
     "output_type": "stream",
     "text": [
      "{'title': 'Late night dining near Great American Music Hall', 'url': u'http://ask.metafilter.com/315108/Late-night-dining-near-Great-American-Music-Hall', 'comment_id': u'4551046', 'html': u'Tommy\\u2019s Joynt is a couple of blocks away and is a San Francisco institution - great comfort food, inexpensive, crammed with personality and open late.', 'time': u'8:12 PM', 'date': 'October 27', 'tags': [u'sanfrancisco', u'greatamericanmusichall', u'dinner']}\n",
      "{'title': 'How to kumbaya with the remote team?', 'url': u'http://ask.metafilter.com/310900/How-to-kumbaya-with-the-remote-team', 'comment_id': u'4494022', 'html': u\"Here's a low-tech, high-impact trick I recently learned at work that's amazingly useful: create a doc-of-docs.<br />\\n<br />\\r\\nThis is a Google Docs document containing links to all of the other documents, tools, dashboards, slack channels etc that a team is using to collaborate on their projects.<br />\\n<br />\\r\\nSince it's a document itself, you can add a full paragraph of explanatory text next to each link explaining what it is and why it's useful - much better than just dumping stuff in a Google Drive folder and hoping people can figure it out for themselves.<br />\\n<br />\\r\\nYou can arrange everything with headings, you can include an &quot;obsolete/archived&quot; section for docs that are out of date but still historically interesting, you can embed screenshots directly in the document. And you don't need to own it - you can start it, set it to &quot;anyone in the company can edit this&quot; and then let the team collaborate to keep it up to date.<br />\\n<br />\\r\\nI spent 15 minutes throwing one together for my team a few weeks ago, and now there are SO MANY questions that can be answered with &quot;that's in the doc-of-docs&quot; - or &quot;make sure that's in the doc-of-docs once you figure it out&quot;.\", 'time': u'7:20 AM', 'date': 'July 7', 'tags': [u'intranet', u'internet', u'computer', u'dashboard', u'remote', u'office', u'telecommute', u'technology', u'slack', u'resolved']}\n",
      "{'title': 'Software or project management technique for DIY home renovations?', 'url': u'http://ask.metafilter.com/310777/Software-or-project-management-technique-for-DIY-home-renovations', 'comment_id': u'4492332', 'html': u\"We've been using a Trello board for this. Free, flexible, fun to use and has good mobile as well as desktop support. You can model &quot;this task requires this task first&quot; by linking to other cards in comments.\", 'time': u'5:31 AM', 'date': 'July 3', 'tags': [u'renovations', u'planningsoftware', u'DIY', u'resolved']}\n",
      "{'title': 'Free Afternoon in San Francisco with no car', 'url': u'http://ask.metafilter.com/310330/Free-Afternoon-in-San-Francisco-with-no-car', 'comment_id': u'4486981', 'html': u\"My absolute favorite thing to do in SF is to walk up a hill. My favourite hill in the city is Corona Heights over in the Castro - it's beautiful and the view is spectacular. It's not part of the regular tourist circuit - you can think of it as a best-kept-secret of the city.<br />\\n<br />\\r\\nIf you do head there an obvious next stop is the Castro neighbourhood itself. A couple of fun hidden gems there: Five Star Chocolate Truffles &amp; Coffee sells delightful handmade truffles (for $15ish you can get one of each of all of the flavours). The Castro Fountain is a brand new ice cream place with great ice cream and incredibly exciting milkshakes.\", 'time': u'12:13 AM', 'date': 'June 22', 'tags': [u'downtime', u'crappyairlines']}\n",
      "{'title': 'A thing to do in London that is special, unusual and fun', 'url': u'http://ask.metafilter.com/309760/A-thing-to-do-in-London-that-is-special-unusual-and-fun', 'comment_id': u'4480153', 'html': u'London has some of the best cocktail bars in the world. I\\'m a big fan of <a href=\"http://www.worlds50bestbars.com/fifty-best-bars-list-2016/\">this top 50 list</a>, which is updated every year based on an international panel of bartenders. It looks like the American Bar at the Savoy is back at the top for London now - it\\'s been serving cocktails for over 100 years including keeping the American cocktail tradition alive during prohibition. Sure, it\\'s expensive but your budget should cover a couple of drinks each (which for me is absolutely enough for an evening). Or you could hit a couple of the bars on that list and have a drink at each one<br />\\n<br />\\r\\nPro tip: the Savoy is within walking distance of most of London\\'s west end theaters, and in my experience if you head there after a show there\\'s normally no line to get seated at the bar. Great for after-show drinks.', 'time': u'6:02 AM', 'date': 'June 8', 'tags': [u'London', u'Experience', u'FunTimes']}\n",
      "{'title': 'Podcasts for commuting to', 'url': u'http://ask.metafilter.com/308605/Podcasts-for-commuting-to', 'comment_id': u'4465092', 'html': u'The <a href=\"http://www.bbc.co.uk/programmes/p02nq0lx/episodes/downloads\">BBC world service Documentary podcast</a> features &quot;the best of BBC World Service documentaries and other factual programmes&quot; and is absolutely spectacular. The quality is uniformly high.<br />\\n<br />\\r\\nJust one example: <a href=\"http://www.bbc.co.uk/programmes/p04pfb0w\">The President and the Press</a> examines the relationship of the president to the press corp over history, featuring interviews with veteran reporters... including a reporter who was present when JFK was shot.<br />\\n<br />\\n<a href=\"http://99percentinvisible.org\">99% Invisible</a> is another great one for varied things that are generally interesting.', 'time': u'3:55 AM', 'date': 'May 3', 'tags': [u'podcasts', u'podcasting', u'commute']}\n",
      "{'title': 'Looking for a modern day wiki for a group project', 'url': u'http://ask.metafilter.com/307865/Looking-for-a-modern-day-wiki-for-a-group-project', 'comment_id': u'4454765', 'html': u'GitHub offers a wiki for each repository. It\\'s free for public projects (no need to upload any code, just create a repo and ignore the other tabs) of you can pay $7 monthly for private ones.<br />\\n<br />\\r\\nWith public wikis you can still control which users are allowed to make edits.<br />\\n<br />\\n<a href=\"https://help.github.com/articles/about-github-wikis/\">https://help.github.com/articles/about-github-wikis/</a><br />\\n<br />\\r\\nThe only missing feature in your list is WYSIWYG editing, but they do offer a good &quot;preview&quot; tab.', 'time': u'7:12 AM', 'date': 'April 11', 'tags': [u'wiki', u'collaboration', u'resolved']}\n",
      "{'title': 'How do I receive automatic updates from a Facebook group by email?', 'url': u'http://ask.metafilter.com/306584/How-do-I-receive-automatic-updates-from-a-Facebook-group-by-email', 'comment_id': u'4437750', 'html': u'Facebook\\'s API does provide a feed of recent posts to a group: <a href=\"https://developers.facebook.com/docs/graph-api/reference/v2.8/group/feed\">https://developers.facebook.com/docs/graph-api/reference/v2.8/group/feed</a><br />\\n<br />\\r\\nIt doesn\\'t look like IFTTT knows how to pull that at the moment - you could send them a feature request. But there are tools out there that can convert a Facebook group feed into RSS which IFTTT should be able to consume. A quick search turned up this option: <a href=\"https://www.wallflux.com\">https://www.wallflux.com</a>', 'time': u'8:11 AM', 'date': 'March 5', 'tags': [u'facebook', u'apartmentsearch', u'API']}\n",
      "{'title': 'Where do you like to eat in London?', 'url': u'http://ask.metafilter.com/306419/Where-do-you-like-to-eat-in-London', 'comment_id': u'4435791', 'html': u\"I adore Ya Hala next to Paddington station - Lebanese food (so lots of veggie options), open until midnight, really good tea as well. It's my first stop in London whenever I'm visiting, since you can get directly there from Hearhrow on the Heathrow Express train.\", 'time': u'5:32 AM', 'date': 'March 1', 'tags': [u'food', u'thatlondon', u'london', u'joy']}\n",
      "{'title': 'Work process vs technology ', 'url': u'http://ask.metafilter.com/306429/Work-process-vs-technology', 'comment_id': u'4435787', 'html': u\"Do you have a plan for what happens if you lose your hard drive, or someone steals it? I understand your need for offline access, but personally I'm terrified of losing my laptop to the point that I use cloud backup services (Dropbox, but I've used and liked Backblaze in the past) to make absolutely sure that I don't lose any data should my laptop get lost or stolen.\", 'time': u'5:25 AM', 'date': 'March 1', 'tags': [u'Data', u'secure', u'technology', u'ihatemicrosoft', u'design']}\n"
     ]
    },
    {
     "name": "stdout",
     "output_type": "stream",
     "text": [
      "{'title': 'Podcasts to love and fall asleep to', 'url': u'http://ask.metafilter.com/305383/Podcasts-to-love-and-fall-asleep-to', 'comment_id': u'4421965', 'html': u'Not technically podcasts but the BBC\\'s radio output is still free to listen to from anywhere in the world (no ads!) and helps me get to sleep most nights. I just hit play in the browser on my phone.<br />\\n<br />\\r\\nI tend to start from this page of recent comedy releases: <a href=\"http://www.bbc.co.uk/radio/programmes/genres/comedy/player/episodes\">http://www.bbc.co.uk/radio/programmes/genres/comedy/player/episodes</a><br />\\n<br />\\r\\nStuff is available for 30 days after it is broadcast. There are a few episodes of Cabin Pressure up at the moment which is a particular favorite.', 'time': u'8:34 AM', 'date': 'January 30', 'tags': [u'podcasts', u'sleeping', u'resolved']}\n",
      "{'title': 'Where to find well-balanced rationals behind Trump policies?', 'url': u'http://ask.metafilter.com/305358/Where-to-find-well-balanced-rationals-behind-Trump-policies', 'comment_id': u'4421824', 'html': u'Reddit\\'s <a href=\"https://www.reddit.com/r/NeutralPolitics/\">NeutralPolitics</a> is a reasonably well moderated community that may be relevant for this.', 'time': u'10:31 PM', 'date': 'January 29', 'tags': [u'trump', u'republican', u'policies']}\n",
      "{'title': 'San Francisco Recommendations: comics, fashion, food, and more', 'url': u'http://ask.metafilter.com/305292/San-Francisco-Recommendations-comics-fashion-food-and-more', 'comment_id': u'4421101', 'html': u\"I'm not a huge comics person, but that said I strongly recommend a trip to Isotope Comics in Hayes Valley on a weekday. Go on a weekday when the owner is running the store. He is incredibly charismatic and positively vibrates with enthusiasm about comics. He also has an incredible collection of toilet seats lining the upper wall of the store, each one illustrated by a famous comic book artist. Make sure to ask him about them.<br />\\n<br />\\r\\nLike I said, I'm not a huge comics fan, but Isotope really feels like something special to me. Friends of mine who are big time into comics definitely appreciate it.\", 'time': u'9:29 PM', 'date': 'January 27', 'tags': [u'sanfrancisco', u'travel', u'resolved']}\n",
      "{'title': 'A guide to the guides to Paris', 'url': u'http://ask.metafilter.com/305246/A-guide-to-the-guides-to-Paris', 'comment_id': u'4419885', 'html': u'You can\\'t go wrong with Atlas Obscura. I haven\\'t used it in Paris (I\\'ve used it successfully in many other places though, including Mexico City) but from glancing over their listings it looks like there are some real gems there: <a href=\"http://www.atlasobscura.com/things-to-do/paris-france\">http://www.atlasobscura.com/things-to-do/paris-france</a>. I\\'ve been to the Catacombs and they are <i>astonishing</i>.', 'time': u'11:15 AM', 'date': 'January 25', 'tags': [u'paris', u'guide', u'guides', u'europe']}\n",
      "{'title': 'A guide to the guides to Paris', 'url': u'http://ask.metafilter.com/305246/A-guide-to-the-guides-to-Paris', 'comment_id': u'4420168', 'html': u'The excellent Citymapper app knows Paris transport very well.', 'time': u'11:27 PM', 'date': 'January 25', 'tags': [u'paris', u'guide', u'guides', u'europe']}\n",
      "{'title': 'Help us plan a trip to the English countryside', 'url': u'http://ask.metafilter.com/304700/Help-us-plan-a-trip-to-the-English-countryside', 'comment_id': u'4412155', 'html': u'The Mechanical Music Museum in Northleach in the Cotswolds is a hidden gem - definitely worth dropping in for their tour.', 'time': u'9:04 PM', 'date': 'January 10', 'tags': [u'London', u'countryside', u'quaint', u'travel', u'thecotswolds']}\n",
      "{'title': 'Simple, delicious eating during long weekend in the mountains', 'url': u'http://ask.metafilter.com/304609/Simple-delicious-eating-during-long-weekend-in-the-mountains', 'comment_id': u'4410981', 'html': u'My wife has had great success with this vegan <a href=\"http://minimalistbaker.com/5-ingredient-sweet-potato-black-bean-chili/\">5 ingredient sweet potato black bean chili</a> recipe - its pretty straight forward to make, scales up extremely well (we\\'ve fed 15 people using two pots before) and tastes even better if you reheat it on subsequent days.', 'time': u'3:58 PM', 'date': 'January 8', 'tags': [u'vacation', u'eating', u'healthy', u'simple']}\n",
      "{'title': 'Wireless access points or mesh networking?', 'url': u'http://ask.metafilter.com/304515/Wireless-access-points-or-mesh-networking', 'comment_id': u'4409658', 'html': u'I recently acquired the Netgear Orbi based on <a href=\"http://m.thewirecutter.com/reviews/best-wi-fi-mesh-networking-kits/\">this recommendation in the wirecutter</a> and it provides excellent fast wifi across our whole apartment where our previous non-mesh router failed to do so (tested using fast.com)<br />\\n<br />\\r\\nIt has parental controls via the Netgear Genie app  but I have no idea if they are any good.', 'time': u'10:00 PM', 'date': 'January 5', 'tags': [u'wifi', u'networking', u'speed', u'parentalcontrols', u'resolved']}\n",
      "{'title': \"How to tell my bosses I'm bored\", 'url': u'http://ask.metafilter.com/304258/How-to-tell-my-bosses-Im-bored', 'comment_id': u'4406351', 'html': u\"The magic word here is &quot;challenging&quot;. Don't say you are bored - say you do not find your current workload challenging enough. Any good manager should be ready to respond to that.\", 'time': u'2:09 PM', 'date': 'December 30, 2016', 'tags': [u'work', u'bored', u'professionaldevelopment', u'busy']}\n",
      "{'title': 'Off the shelf question database/management system for repeated surveys?', 'url': u'http://ask.metafilter.com/303489/Off-the-shelf-question-database-management-system-for-repeated-surveys', 'comment_id': u'4395053', 'html': u\"I've been using Airtable for some personal projects recently and I could not be more impressed with it. It makes building a relatively sophisticated database trivial, the collaboration features are outstanding (live updates, full history tracking on everything) and it's fully cross platform - I've designed new databases on my iPhone!\", 'time': u'7:16 AM', 'date': 'December 7, 2016', 'tags': [u'surveymanagement', u'questionlog', u'questiondatabase', u'survey', u'surveys', u'database', u'questionbank']}\n",
      "{'title': 'Best way to take shareable meeting minutes', 'url': u'http://ask.metafilter.com/303085/Best-way-to-take-shareable-meeting-minutes', 'comment_id': u'4389430', 'html': u'Google Docs is a fantastic tool for meeting notes, because the collaboration features are second-to-none: in the meeting itself you can have multiple people adding notes and it Just Works. Provided everyone has a google account the sharing features for both during and afterwards are clear and easy.<br />\\n<br />\\r\\nIt has a great iPad/iPhone/etc app as well - the iPad variant may fit the bill for discrete in-room note taking - in my world (tech industry) people tend to just use a laptop. We often have laptops-discouraged meetings but an exception is made for the people taking the notes.', 'time': u'5:15 AM', 'date': 'November 27, 2016', 'tags': [u'handwritingtotext', u'meetingminutes', u'notetaking']}\n",
      "{'title': 'Good travel book for recently retired man?', 'url': u'http://ask.metafilter.com/303050/Good-travel-book-for-recently-retired-man', 'comment_id': u'4389055', 'html': u'The new Atlas Obscura coffee table book is worth a look.', 'time': u'4:15 AM', 'date': 'November 26, 2016', 'tags': [u'travel', u'books', u'christmas', u'gifts', u'presents']}\n",
      "{'title': 'Generating interactive HTML charts from Python?', 'url': u'http://ask.metafilter.com/303041/Generating-interactive-HTML-charts-from-Python', 'comment_id': u'4388982', 'html': u'D3 is absolutely amazing but the learning curve is a bit steep. Totally worth the effort to learn it in the long run, but it\\'s not so useful if you want to get something done quickly.<br />\\n<br />\\r\\nI\\'ve used <a href=\"http://nvd3.org\">NVD3</a> successfully in the past - it\\'s another high level library on top of D3. Much faster to get results than D3 on its own.<br />\\n<br />\\r\\nFrom your description it sounds like you should also check out <a href=\"http://square.github.io/crossfilter/\">crossfilter</a> which, for the right use-cases, is phenomenal.', 'time': u'8:05 PM', 'date': 'November 25, 2016', 'tags': [u'python', u'pandas', u'bokeh', u'plotly', u'datavis', u'visualization']}\n"
     ]
    },
    {
     "name": "stdout",
     "output_type": "stream",
     "text": [
      "{'title': 'Tell me when to quit.', 'url': u'http://ask.metafilter.com/301871/Tell-me-when-to-quit', 'comment_id': u'4375778', 'html': u'If you want to get into Person of Interest without having to wade through the less great monster-of-the-week episodes in season one, <a href=\"http://io9.gizmodo.com/5958702/how-to-get-into-person-of-interest-the-best-science-fiction-show-on-tv\">Io9 has an episode guide</a> listing the season one episodes essential to the overall plot arc. I think it\\'s solid gold from season two onwards - by far the smartest fictional depiction of artificial intelligence I\\'ve seen anywhere.<br />\\n<br />\\r\\nWhatever you do, do not watch the last season of Dexter. It\\'s such garbage it spoils the previous seasons, which are mostly excellent - especially the ones with John Lithgow as one of the nastiest villains in TV history.', 'time': u'1:56 PM', 'date': 'October 30, 2016', 'tags': [u'television', u'drama', u'mystery', u'crime', u'tvshow']}\n",
      "{'title': 'Practical gift ideas to positively improve a friend\\xe2\\x80\\x99s life and hobbies', 'url': u'http://ask.metafilter.com/301504/Practical-gift-ideas-to-positively-improve-a-friends-life-and-hobbies', 'comment_id': u'4367888', 'html': u\"I'm a big fan of the Dorling Kindersley travel books, which are chock full of photos, maps, diagrams and illustrations. Thanks to the internet there's really not much point carting around a reference-style guidebook like Lonely Planet - TripAdvisor etc will always be more comprehensive and up-to-date. This makes guidebooks more important for general inspiration and browsing.\", 'time': u'10:34 PM', 'date': 'October 13, 2016', 'tags': [u'gifts', u'photography', u'art', u'drawing', u'travel', u'biking']}\n",
      "{'title': 'Probably need to GTFO [another how do I spin leaving question]', 'url': u'http://ask.metafilter.com/301455/Probably-need-to-GTFO-another-how-do-I-spin-leaving-question', 'comment_id': u'4367237', 'html': u\"It strikes me that the core problem here is that your current company's runway is privileged information: your current employer doesn't need rumors about their financial health to start spreading. I think your instinct to avoid straight out saying that to other companies is very reasonable.<br />\\n<br />\\r\\nAn honest alternative may to be say something like &quot;I'm not convinced that my current company is on a successful path forward, and I'd rather work for a company like yours which I believe has a better chance at explosive success&quot;. You're not sharing privileged information, but you're also not being misleading about your motivations. Plus you get to compliment your potential new employer at the same time.\", 'time': u'3:04 PM', 'date': 'October 12, 2016', 'tags': [u'employment', u'startup', u'quitting']}\n",
      "{'title': 'Where should we stay in Nashville?', 'url': u'http://ask.metafilter.com/301197/Where-should-we-stay-in-Nashville', 'comment_id': u'4363623', 'html': u\"For a delightfully unique Nashville experience, I suggest looking up Santa's Pub. It's a dive bar in a double wide trailer run by a man who looks a bit like Santa, and every night there is karaoke night. Aside from being a bit smokey it's an enormous amount of fun.\", 'time': u'4:09 PM', 'date': 'October 4, 2016', 'tags': [u'nashville', u'hotel', u'travel', u'restaurants']}\n",
      "{'title': ' Japanese pantry staples? ', 'url': u'http://ask.metafilter.com/301190/Japanese-pantry-staples', 'comment_id': u'4363466', 'html': u'These answers are fantastic! I\\'m so glad I asked here. Thank you all very much.<br />\\n<br />\\r\\nI just stumbled across <a href=\"http://www.seriouseats.com/2016/05/japanese-cooking-pantry-staples.html\">How to Stock a Japanese Pantry</a> on Serious Eats which I\\'m finding useful too.', 'time': u'12:25 PM', 'date': 'October 4, 2016', 'tags': [u'Cooking', u'Japanese', u'Japan']}\n",
      "{'title': 'Difficulty level: Eating dumplings', 'url': u'http://ask.metafilter.com/301078/Difficulty-level-Eating-dumplings', 'comment_id': u'4362119', 'html': u'When I lived in Islington a few years ago I really liked New Culture Revolution for dumplings. It was never busy, not very expensive and the food was great.', 'time': u'2:49 PM', 'date': 'October 1, 2016', 'tags': [u'london', u'restaurants', u'reservations', u'resolved']}\n",
      "{'title': 'Need new noms', 'url': u'http://ask.metafilter.com/300996/Need-new-noms', 'comment_id': u'4360763', 'html': u'I\\'m in a similar space to you at the moment: looking to expand my cooking horizons with new adventures.<br />\\n<br />\\r\\nI\\'ve developed something of an obsession with the website <a href=\"http://www.seriouseats.com/\">Serious Eats</a> recently as an incredibly reliable source of new recipes - I\\'ve not had a single recipe I\\'ve tried from there turn out bad, to the point that I now search there before looking anywhere else. The site is great for browsing too - just a few minutes ago I got excited by their newly published <a href=\"http://www.seriouseats.com/recipes/2016/09/shakshuka-north-african-shirred-eggs-tomato-pepper-recipe.html\">Shakshuka recipe</a> by Kenji, my favorite author there.', 'time': u'11:57 PM', 'date': 'September 28, 2016', 'tags': [u'cooking', u'international', u'notanotherbrisket']}\n",
      "{'title': 'Lovecraft-inspired fiction and cookbooks (unrelated!)', 'url': u'http://ask.metafilter.com/300357/Lovecraft-inspired-fiction-and-cookbooks-unrelated', 'comment_id': u'4351289', 'html': u'Have you considered the Laundry Files series by Charles Stross? They are novels about a secret UK government department which fights off lovecraftian threats while suffering through the typical burucracry you would expect from the UK government.', 'time': u'10:23 PM', 'date': 'September 11, 2016', 'tags': [u'books', u'cookbooks', u'Lovecraft', u'fiction']}\n",
      "{'title': \"Let's make moving and packing FUN again\", 'url': u'http://ask.metafilter.com/300311/Lets-make-moving-and-packing-FUN-again', 'comment_id': u'4350492', 'html': u\"Something nice I've done in the past that has worked surprisingly well is to record a time lapse video of the packing. I used software for my laptop (an OS X app called Gawker, but I don't think it works today so you may need a different solution) which takes a frame every 30 seconds and combines it into a video. Stick the laptop in a high up corner with a good wide view of the room and get to work.<br />\\n<br />\\r\\nThis has a number of positive effects. Firstly, it gives a great sense of your progress being recorded, which I find quite motivating. Secondly, it just makes packing more fun - every now and then you can do something creative, like poising stuffed toys somewhere amusing or creating a stop-motion animation of chairs dancing with each other.<br />\\n<br />\\r\\nI've used this technique a few times and found that the benefit far outweighs the small amount of effort it takes to set up.\", 'time': u'8:14 AM', 'date': 'September 10, 2016', 'tags': [u'moving', u'packing', u'morale', u'anxiety']}\n",
      "{'title': 'Help with next steps for a startup', 'url': u'http://ask.metafilter.com/300070/Help-with-next-steps-for-a-startup', 'comment_id': u'4346976', 'html': u\"Have you thought about applying to Y Combinator? The reason I ask is that &quot;I have lots of expertise in language learning and basically zero expertise in startups, market research, business, fundraising, app pricing, etc&quot; is pretty much YC's sweet spot: they know that it's much easier teaching those things to engineers and makers than it is to teach engineering to business people (I'm assuming you have product and engineering skills based on your description of your progress so far).<br />\\n<br />\\r\\nI went through YC a few years ago from a similar starting point (engineering and product experience but no business skills) and found it to be an excellent decision.\", 'time': u'9:54 AM', 'date': 'September 4, 2016', 'tags': [u'small', u'business', u'vc', u'fundraising', u'market', u'research']}\n",
      "{'title': 'Help with next steps for a startup', 'url': u'http://ask.metafilter.com/300070/Help-with-next-steps-for-a-startup', 'comment_id': u'4347072', 'html': u\"Also worth mentioning: YC accept less than a hundred out of many thousands of applications, but your description of your progress so far should be enough to help your application stand out. It's very competitive but I think you would be in with a better chance than many.\", 'time': u'1:53 PM', 'date': 'September 4, 2016', 'tags': [u'small', u'business', u'vc', u'fundraising', u'market', u'research']}\n",
      "{'title': \"I'm in Polanco (Mexico City) and I hate it. Where to go?\", 'url': u'http://ask.metafilter.com/295780/Im-in-Polanco-Mexico-City-and-I-hate-it-Where-to-go', 'comment_id': u'4284582', 'html': u\"You said you want to avoid expensive taxis.. are you morally opposed to Uber? If not you should know that it works in Mexico City (with your regular Uber account registered in another country), it's fast and not very espensive. It may give you a lot more flexibility for exploring the city.\", 'time': u'4:28 AM', 'date': 'May 15, 2016', 'tags': [u'eats', u'MexicoCity', u'cheap', u'Polanco']}\n"
     ]
    },
    {
     "name": "stdout",
     "output_type": "stream",
     "text": [
      "{'title': 'Weekend travel in Europe ', 'url': u'http://ask.metafilter.com/290107/Weekend-travel-in-Europe', 'comment_id': u'4202466', 'html': u'I\\'ve been using <a href=\"http://www.atlasobscura.com/\">www.atlasobscura.com</a> a lot for travel inspiration recently - it\\'s particularly good for finding the most interesting/weird things in a given area (it can even do geolocation in your phone to show the most interesting nearby things). I bet you could find some very exciting options there.<br />\\n<br />\\r\\nI\\'ve also found the &quot;things to do&quot; section on TripAdvisor to be surprisingly useful. My wife and I have a habit of trying to take the top rated cookery course on TripAdvisor whenever we travel, and it\\'s lead to some extremely memorable experiences.', 'time': u'5:50 AM', 'date': 'December 27, 2015', 'tags': [u'Travel', u'Europe', u'activity']}\n",
      "{'title': 'Nile Cruises: Does the \"Oberoi Shehrayar\" actually exist?', 'url': u'http://ask.metafilter.com/167075/Nile-Cruises-Does-the-Oberoi-Shehrayar-actually-exist', 'comment_id': u'2402197', 'html': u\"Yeah, that's the site he showed us I think. I'm leaning towards &quot;bog standard Nile Cruiser adopts confusing name to try and get ahead of the rest&quot; as the explanation at the moment. There are 270 cruisers on the Nile, after all.\", 'time': u'11:51 AM', 'date': 'October 6, 2010', 'tags': [u'nilecruises', u'egypt', u'travel', u'cruises', u'nile', u'resolved']}\n",
      "{'title': 'Nile Cruises: Does the \"Oberoi Shehrayar\" actually exist?', 'url': u'http://ask.metafilter.com/167075/Nile-Cruises-Does-the-Oberoi-Shehrayar-actually-exist', 'comment_id': u'2402202', 'html': u\"Another data point: http://www.luxurynilecruisers.com/tariff.htm is one of the top hits on Google for that ship... but the price list hasn't been updated since 2007. Most of the reviews I've found are from years ago as well, I don't think I've found one dated 2010 or 2009 yet.\", 'time': u'11:54 AM', 'date': 'October 6, 2010', 'tags': [u'nilecruises', u'egypt', u'travel', u'cruises', u'nile', u'resolved']}\n",
      "{'title': 'Nile Cruises: Does the \"Oberoi Shehrayar\" actually exist?', 'url': u'http://ask.metafilter.com/167075/Nile-Cruises-Does-the-Oberoi-Shehrayar-actually-exist', 'comment_id': u'2402206', 'html': u'And another thing... most of the photos on this website (which he showed us) actually 404 if you click on them: <a href=\"http://www.safariegypt.com/egypt_nile_cruise/oberoiShehrayar/photos/Photo_01_OberoiSherayar.htm\">http://www.safariegypt.com/egypt_nile_cruise/oberoiShehrayar/photos/Photo_01_OberoiSherayar.htm</a>', 'time': u'11:56 AM', 'date': 'October 6, 2010', 'tags': [u'nilecruises', u'egypt', u'travel', u'cruises', u'nile', u'resolved']}\n",
      "{'title': 'Nile Cruises: Does the \"Oberoi Shehrayar\" actually exist?', 'url': u'http://ask.metafilter.com/167075/Nile-Cruises-Does-the-Oberoi-Shehrayar-actually-exist', 'comment_id': u'2404105', 'html': u\"Update: we've seen the boat now, so it definitely exists! As far as we can tell it's an ex-Oberoi boat, now operated by a different company (Miser travel). It looks like they've taken the &quot;Oberoi&quot; part of the name off the boat now (there are some faded areas on the side of the ship that look like they might have once held those letters) and don't seem to  be marketing it as anything other than the M/S Shehrayar.<br />\\n<br />\\r\\nWe've gone ahead with the booking.\", 'time': u'2:44 PM', 'date': 'October 7, 2010', 'tags': [u'nilecruises', u'egypt', u'travel', u'cruises', u'nile', u'resolved']}\n",
      "{'title': 'Getting from point A to B (the right way)', 'url': u'http://ask.metafilter.com/73617/Getting-from-point-A-to-B-the-right-way', 'comment_id': u'1095266', 'html': u\"If your laptop is relatively recent it might have hardware support for virtualization (Intel Core Duo chips do, for example). If so, it's worth looking in to using VMWare or Parallels to run a virtual linux server locally on your machine. You'll need a fair amount of RAM for this as well - 2 GB minimum probably.<br />\\n<br />\\r\\nI do this and it's fantastic as a development tool. I've got an Ubuntu virtual server which means I can install pretty much anything I want to with an apt-get - then I mount it to my &quot;real&quot; laptop over Samba so I can edit files with a local text editor. Best of both worlds.<br />\\n<br />\\r\\nI can't recommend using source control enough - it's not that tricky to get started with and it means you'll never be afraid of changing code again (since you can always roll back). I'd go for Subversion - newer systems are more trendy, but for a single person getting started with version control subversion will probably be easiest to pick up. This book should help: http://www.pragprog.com/titles/svn2\", 'time': u'2:30 PM', 'date': 'October 11, 2007', 'tags': [u'web', u'development', u'php', u'mysql', u'platform', u'workflow', u'work', u'efficiency', u'optimization']}\n",
      "{'title': 'Website for the masses!', 'url': u'http://ask.metafilter.com/69276/Website-for-the-masses', 'comment_id': u'1035251', 'html': u'You could try building it on top of a wiki engine, like MediaWiki - see <a href=\"http://ask.metafilter.com/55146/How-can-my-nontechsavvy-Mum-maintain-her-own-website#829862\">my comment on this older question</a>.', 'time': u'8:44 AM', 'date': 'August 14, 2007', 'tags': [u'cms', u'content', u'management', u'movable', u'type', u'expression', u'engine', u'blog', u'noblog', u'corporate', u'enterprise', u'plone']}\n",
      "{'title': 'What to do on vacation?', 'url': u'http://ask.metafilter.com/67743/What-to-do-on-vacation', 'comment_id': u'1014712', 'html': u'I had a fantastic (and not expensive) Cajun meal here last night at <a href=\"http://www.montageportland.com/\">Montage</a> - really fun place, very quirky.', 'time': u'7:30 PM', 'date': 'July 24, 2007', 'tags': [u'vacation', u'portland', u'lasvegas', u'NYC']}\n",
      "{'title': 'Help me figure out my Macbook Pro!', 'url': u'http://ask.metafilter.com/64427/Help-me-figure-out-my-Macbook-Pro', 'comment_id': u'969250', 'html': u'For (slightly) better diagnostics of your wireless connection problems, try running the &quot;Console&quot; application (use Quicksilver or Spotlight to find it). That will show your the system log which often includes more information about connection errors.', 'time': u'1:56 PM', 'date': 'June 9, 2007', 'tags': [u'OSX', u'Mac', u'computer']}\n",
      "{'title': 'Problems with XHTML content type.', 'url': u'http://ask.metafilter.com/63715/Problems-with-XHTML-content-type', 'comment_id': u'958616', 'html': u'The first question you should be asking is why you need XHTML - if you don\\'t have a specific reason (the need for XML parsers to be able to consume your pages) you\\'re much better off with HTML 4.01 for now, and HTML 5 in probably a year or so.<br />\\n<br />\\r\\nAs for serving up XHTML, you need to check the browser\\'s HTTP_ACCEPT header to decide whether or not to serve it (IE, including IE 7, can\\'t handle it at all and will offer to download it).\\r\\n<pre>&lt; ?phpbr&gt;\\r\\nif ( stristr($_SERVER[&quot;HTTP_ACCEPT&quot;],&quot;application/xhtml+xml&quot;) ) {\\r\\n  header(&quot;Content-type: application/xhtml+xml&quot;);\\r\\n}\\r\\nelse {\\r\\n  header(&quot;Content-type: text/html&quot;);\\r\\n}\\r\\n?&gt;&lt; /&gt;</pre>Be warned: there are a TON of gotchas involved in serving using the application/xhtml+xml content type, especially relating to JavaScript. <a href=\"http://www.xml.com/pub/a/2003/03/19/dive-into-xml.html\">This article</a> from 2003 is still very relevant.', 'time': u'2:13 PM', 'date': 'May 30, 2007', 'tags': [u'XHTML', u'standards', u'W3C']}\n",
      "{'title': 'Problems with XHTML content type.', 'url': u'http://ask.metafilter.com/63715/Problems-with-XHTML-content-type', 'comment_id': u'958688', 'html': u\"Forgot to mention: the best reason to use XHTML is if you want to embed SVG or MathML in your pages. Again, that trick won't work in any existing version of Internet Explorer.<br />\\n<br />\\r\\nGenerally though it's best avoided. I served my personal site in XHTML with the correct content type for several years; it was a nuisance. The XML error model is fundamentally unsuited to the Web.<br />\\n<br />\\r\\nOne of the reasons HTML 5 is so interesting is that it attempts to specify an error model that is as close as possible to the way actual browsers work today.\", 'time': u'3:07 PM', 'date': 'May 30, 2007', 'tags': [u'XHTML', u'standards', u'W3C']}\n",
      "{'title': 'San Diego, tell me more', 'url': u'http://ask.metafilter.com/60452/San-Diego-tell-me-more', 'comment_id': u'910153', 'html': u'You should totally go to <a href=\"http://en.wikipedia.org/wiki/Horton_Plaza\">Horton Plaza</a>. It\\'s a shopping mall, but it\\'s also basically one big architectural joke. Everything is at funny angles, and stairs and ramps never take you where they think you will. I usually have no interest in visiting malls at all but I totally loved it.', 'time': u'1:40 AM', 'date': 'April 12, 2007', 'tags': [u'SoCal', u'sandiego', u'california']}\n"
     ]
    },
    {
     "name": "stdout",
     "output_type": "stream",
     "text": [
      "{'title': 'Stupid computers.....do what I want!', 'url': u'http://ask.metafilter.com/59584/Stupid-computersdo-what-I-want', 'comment_id': u'896267', 'html': u'Look for a header called X-Forwarded-For, but be sure to <a href=\"http://bob.pythonmac.org/archives/2005/09/23/apache-x-forwarded-for-caveat/\">read this first</a>.', 'time': u'3:52 PM', 'date': 'March 29, 2007', 'tags': [u'Apache', u'Tomcat', u'Jython', u'mod_rewrite']}\n",
      "{'title': 'Warning, this is a bad site!', 'url': u'http://ask.metafilter.com/57644/Warning-this-is-a-bad-site', 'comment_id': u'866611', 'html': u\"Unfortunately it's not a glitch in the matrix - this happened to a friend of mine. If a site gets this warning and isn't listed on StopBadWare.org it just means that Google have blacklisted it themselves - they don't share their reasons with StopBadWare, and provide no mechanism to find out why they've blacklisted you. The link to StopBadWare is something of a red herring.<br />\\n<br />\\r\\nUnfortunately there's nothing I can suggest as a remedy - Google are completely uncommunicative about this issue, which I think is scandalous.\", 'time': u'12:34 PM', 'date': 'February 25, 2007', 'tags': [u'malware', u'wiki', u'yochaibenkler']}\n",
      "{'title': 'Warning, this is a bad site!', 'url': u'http://ask.metafilter.com/57644/Warning-this-is-a-bad-site', 'comment_id': u'866613', 'html': u\"The wiki could be the problem - he really needs to scan through absolutely every page / link on the site looking for anything nasty. My friend's site was eventually re-included.\", 'time': u'12:43 PM', 'date': 'February 25, 2007', 'tags': [u'malware', u'wiki', u'yochaibenkler']}\n",
      "{'title': 'How can my non-tech-savvy Mum maintain her own website?', 'url': u'http://ask.metafilter.com/55146/How-can-my-nontechsavvy-Mum-maintain-her-own-website', 'comment_id': u'829862', 'html': u'Here\\'s a trick I\\'ve used in the past. Find a simple wiki package (I used <a href=\"http://tavi.sourceforge.net/\">Tavi</a>). Install it, <strong>twice</strong>. Point both installations at the same backend database. Now password protect one of them with .htaccess - that\\'s the one that gets used to edit her site. Make some simple template modifications to the other one to make it <em>not</em> look like a wiki - remove the edit links (and delete the edit saving code for good measure), configure it to display WikiLinks with spaces in the middle, then add the site\\'s navigation around the top. This wiki will be the public site.<br />\\n<br />\\r\\nIf you\\'re even mildly comfortable with PHP the above modifications shouldn\\'t take more than twenty minutes or so. In return for that time investment you get a top class content management system with (hopefully) simple non-HTML markup and full revision tracking - so your Mum doesn\\'t have to worry about screwing anything up as she\\'ll always be able to get back to the old version.<br />\\n<br />\\r\\nThis trick works especially well for sites that have more than one person collaborating on them thanks to the revision tracking, but it should be fine for just one person as well.', 'time': u'12:35 PM', 'date': 'January 16, 2007', 'tags': [u'website', u'cms']}\n",
      "{'title': 'How is Google giving me access to this page?', 'url': u'http://ask.metafilter.com/53894/How-is-Google-giving-me-access-to-this-page', 'comment_id': u'811885', 'html': u'Google have an open URL redirector, so you can craft a link that uses that:<br />\\n<br />\\n<a href=\"http://www.google.com/url?sa=D&amp;q=http://www.stratfor.com/products/premium/read_article.php?id=282226\">Link via redirector</a>', 'time': u'2:38 PM', 'date': 'December 27, 2006', 'tags': [u'web', u'security', u'authentication', u'google']}\n",
      "{'title': 'Sending a postal letter via the internets?', 'url': u'http://ask.metafilter.com/53831/Sending-a-postal-letter-via-the-internets', 'comment_id': u'811027', 'html': u\"Thanks mycapaciousbottega. It looks like there's still a business opportunity here because emailbypost.com doesn't work!  I got through the create-your-letter step, but when I hit the &quot;pay&quot; button I got an error from the payment service stating that their user account didn't exist.<br />\\n<br />\\r\\nAnyone know of any services like this that actually work?\", 'time': u'4:00 PM', 'date': 'December 26, 2006', 'tags': [u'uk', u'letters', u'post']}\n",
      "{'title': 'What is the physically smallest and cheapest laptop capable of running OS X?', 'url': u'http://ask.metafilter.com/53779/What-is-the-physically-smallest-and-cheapest-laptop-capable-of-running-OS-X', 'comment_id': u'810474', 'html': u'Apple rumors are worth approximately nothing, but there\\'s <a href=\"http://www.macrumors.com/pages/2006/12/20061204034048.shtml\">one going around</a> that a ultra-slim 12&quot; MacBook Pro is going to be announced at MacWorld Expo some time in the second week of January; might be worth holding on until then to see if there\\'s any truth to it. There\\'s certainly a 12&quot; sized hole in the line-up at the moment.', 'time': u'4:08 PM', 'date': 'December 25, 2006', 'tags': [u'apple', u'laptop', u'shopping', u'size', u'computer', u'osx']}\n",
      "{'title': 'So long Safari?', 'url': u'http://ask.metafilter.com/37948/So-long-Safari', 'comment_id': u'587217', 'html': u'All browsers have bugs - especially relating to fancy JavaScript stuff. Any truly complex web application is likely to run in to browser bugs, and fixing them takes a whole bunch of time. Bugs in IE and Firefox are pretty well understood, as are the workarounds for them.<br />\\n<br />\\r\\nSafari has been out in the wild for less time, and also has a smaller number of people testing on it because it only runs on OS X. Here are a couple of  issues that Safari suffers from that have affected me in the past:<br />\\n<br />\\r\\n1. <a href=\"http://mikebulman.typepad.com/you_love_mike_bulman/2005/11/safari_addevent.html\">addEventListener doesn\\'t work in Safari if you try to use it with a dblclick event</a>.<br />\\n<br />\\r\\n2. <a href=\"http://lists.apple.com/archives/web-dev/2004/Jun/msg00151.html\">preventDefault and stopPropagation don\\'t work in Safari</a> (this may now have been fixed)<br />\\n<br />\\r\\nThere\\'s a huge list of <a href=\"http://www.quirksmode.org/bugreports/archives/safari/index.html\">other bugs here</a>.<br />\\n<br />\\r\\nI think you\\'ll agree that these are pretty obscure problems (so obscure that the vast majority of sites never trigger them). It\\'s only the modern trend for Ajax/JavaScript heavy web apps that is bringing them to the surface.<br />\\n<br />\\r\\nLike I said, all browsers have their own DOM/JavaScript bugs - which means you have to debug seperately in each browser. My hunch is that Safari has more JS/DOM-related problems than other browsers at the moment. To their credit, every release of Safari offers huge improvements, they release often and updates tend to be pushed out to Safari users very quickly. But when you\\'re launching your new hugely complicated Ajax site the temptation to leave the Safari fixes until later is understandable.<br />\\n<br />\\r\\nIn answer to the original question, I don\\'t see Safari going anywhere. It\\'s a great browser to develop for, and it\\'s getting less buggy all the time. The web development community\\'s shared understanding of its current bugs and their workarounds is growing constantly as well. I think it has a very bright future.', 'time': u'12:34 PM', 'date': 'May 10, 2006', 'tags': [u'safari', u'osx', u'mac', u'apple', u'browsers']}\n",
      "{'title': 'Patching Windows XP from burned CDs?', 'url': u'http://ask.metafilter.com/32736/Patching-Windows-XP-from-burned-CDs', 'comment_id': u'511274', 'html': u\"antifuse: that's perfect, thanks. Unfortunately slipstreaming isn't really an option - or at least I'd rather avoid it (I'd have to take her laptop home with me and return it another time).\", 'time': u'7:28 AM', 'date': 'February 16, 2006', 'tags': [u'windows', u'patching', u'aunt']}\n",
      "{'title': 'Patching Windows XP from burned CDs?', 'url': u'http://ask.metafilter.com/32736/Patching-Windows-XP-from-burned-CDs', 'comment_id': u'511281', 'html': u\"Correction: slipstreaming isn't an option because I don't have another PC to set it all up from.\", 'time': u'7:29 AM', 'date': 'February 16, 2006', 'tags': [u'windows', u'patching', u'aunt']}\n",
      "{'title': 'What are some good software development/open source blogs?', 'url': u'http://ask.metafilter.com/32690/What-are-some-good-software-developmentopen-source-blogs', 'comment_id': u'510893', 'html': u'<a href=\"http://www.thedailywtf.com/\">http://www.thedailywtf.com/</a> is an endlessly entertaining guide to how <em>not</em> to develop software.', 'time': u'5:22 PM', 'date': 'February 15, 2006', 'tags': [u'blogs', u'softwaredevelopment', u'opensource']}\n"
     ]
    },
    {
     "name": "stdout",
     "output_type": "stream",
     "text": [
      "{'title': 'Can social bookmarking services prevent a bookmark from becoming dead links?', 'url': u'http://ask.metafilter.com/31586/Can-social-bookmarking-services-prevent-a-bookmark-from-becoming-dead-links', 'comment_id': u'495066', 'html': u'Yahoo!\\'s <a href=\"http://myweb2.search.yahoo.com/\">MyWeb 2.0</a> can do that. (Disclaimer: I work for Yahoo!, but not directly on that product).', 'time': u'9:50 AM', 'date': 'January 27, 2006', 'tags': [u'bookmark', u'dead', u'link', u'research']}\n",
      "{'title': \"Get tickets for filming of Jools Holland's TV show\", 'url': u'http://ask.metafilter.com/29734/Get-tickets-for-filming-of-Jools-Hollands-TV-show', 'comment_id': u'469086', 'html': u\"I was in the audience for &quot;Later&quot; once. I called up the BBC's ticket office and asked for tickets - they told me there was a year long waiting list. I asked to be put on it anyway, and sure enough just over a year later I got 4 tickets in the mail. Well worth the wait!\", 'time': u'4:48 AM', 'date': 'December 28, 2005', 'tags': [u'jools', u'holland', u'hootenanny', u'filming', u'tickets']}\n",
      "{'title': 'Space Shuttle Columbia Accident', 'url': u'http://ask.metafilter.com/20151/Space-Shuttle-Columbia-Accident', 'comment_id': u'329865', 'html': u'The <a href=\"http://caib.nasa.gov/news/report/default.html\">official accident report</a> is surprisingly readable - I had to look at it a while back for a university project.', 'time': u'8:18 AM', 'date': 'June 20, 2005', 'tags': [u'Space', u'Shuttle', u'Columbia', u'accident', u'NASA']}\n",
      "{'title': 'Do Content Management Systems really work?', 'url': u'http://ask.metafilter.com/15300/Do-Content-Management-Systems-really-work', 'comment_id': u'262960', 'html': u\"Have you considered trying a Wiki? In my experience, the more permissions / workflow / etc you have in a CMS the more likely it is that people won't use it. Wikis may be a little unconventional but the barrier to entry is fantastically low and they can work extremely well (I like MediaWiki or TaviWiki myself).<br />\\n<br />\\r\\nI'm very skeptical of the idea that the people who update an intranet should be limited. If you have an employee who can't be trusted to edit information on an intranet, why did you hire them in the first place? In my opinion the presence of a revision log should be enough to deter any abuse - if someone screws up, just revert their change and have a word with them about it.\", 'time': u'10:28 PM', 'date': 'February 17, 2005', 'tags': [u'business', u'administration', u'management', u'cms', u'software', u'training', u'information']}\n",
      "{'title': 'I need a new backpack', 'url': u'http://ask.metafilter.com/14075/I-need-a-new-backpack', 'comment_id': u'242583', 'html': u'I\\'m a big fan of eBags.com for this kind of thing, because it lets you <a href=\"http://www.ebags.com/business_cases/laptop_cases/category_search/index.cfm?N=4001+2006675\">pick the model of your laptop</a> and then tells you which bags it will fit in. I bought a bag from there last year and the e-commerce / delivery side of things was flawless.', 'time': u'2:08 PM', 'date': 'January 16, 2005', 'tags': [u'backpacks', u'laptops', u'style', u'accessories', u'bags']}\n"
     ]
    }
   ],
   "source": [
    "fetched = []\n",
    "for url in urls:\n",
    "    data = get_comment(url)\n",
    "    fetched.append(data)\n",
    "    print data\n"
   ]
  },
  {
   "cell_type": "code",
   "execution_count": 101,
   "metadata": {
    "collapsed": true
   },
   "outputs": [],
   "source": [
    "import json"
   ]
  },
  {
   "cell_type": "code",
   "execution_count": 102,
   "metadata": {
    "collapsed": true
   },
   "outputs": [],
   "source": [
    "open('/tmp/blah.json', 'w').write(json.dumps(fetched, indent=2))"
   ]
  },
  {
   "cell_type": "code",
   "execution_count": 103,
   "metadata": {
    "collapsed": true
   },
   "outputs": [],
   "source": [
    "!cat /tmp/blah.json | pbcopy"
   ]
  },
  {
   "cell_type": "code",
   "execution_count": 86,
   "metadata": {
    "collapsed": true
   },
   "outputs": [],
   "source": [
    "soup = Soup(requests.get(urls[3]).content.decode('utf8'))"
   ]
  },
  {
   "cell_type": "code",
   "execution_count": 92,
   "metadata": {},
   "outputs": [
    {
     "data": {
      "text/plain": [
       "'Free Afternoon in San Francisco with no car'"
      ]
     },
     "execution_count": 92,
     "metadata": {},
     "output_type": "execute_result"
    }
   ],
   "source": [
    "soup.find('h1', {'class': 'posttitle'}).renderContents().split('<br')[0]"
   ]
  },
  {
   "cell_type": "code",
   "execution_count": null,
   "metadata": {
    "collapsed": true
   },
   "outputs": [],
   "source": []
  }
 ],
 "metadata": {
  "kernelspec": {
   "display_name": "Python 2",
   "language": "python",
   "name": "python2"
  },
  "language_info": {
   "codemirror_mode": {
    "name": "ipython",
    "version": 2
   },
   "file_extension": ".py",
   "mimetype": "text/x-python",
   "name": "python",
   "nbconvert_exporter": "python",
   "pygments_lexer": "ipython2",
   "version": "2.7.12"
  }
 },
 "nbformat": 4,
 "nbformat_minor": 2
}
