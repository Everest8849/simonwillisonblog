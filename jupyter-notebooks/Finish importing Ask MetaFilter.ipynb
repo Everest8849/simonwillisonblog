{
 "cells": [
  {
   "cell_type": "code",
   "execution_count": 8,
   "metadata": {
    "collapsed": true
   },
   "outputs": [],
   "source": [
    "url = 'https://gist.githubusercontent.com/simonw/29326d38d35ff1d57f1e99538d9edfff/raw/f3e2bca16ffdc077fb948bb3d240439613b62e42/ask-metafilter-simonw.json'"
   ]
  },
  {
   "cell_type": "code",
   "execution_count": 9,
   "metadata": {
    "collapsed": true
   },
   "outputs": [],
   "source": [
    "import requests"
   ]
  },
  {
   "cell_type": "code",
   "execution_count": 10,
   "metadata": {
    "collapsed": true
   },
   "outputs": [],
   "source": [
    "items = requests.get(url).json()"
   ]
  },
  {
   "cell_type": "code",
   "execution_count": 11,
   "metadata": {},
   "outputs": [
    {
     "data": {
      "text/plain": [
       "63"
      ]
     },
     "execution_count": 11,
     "metadata": {},
     "output_type": "execute_result"
    }
   ],
   "source": [
    "len(items)"
   ]
  },
  {
   "cell_type": "code",
   "execution_count": 12,
   "metadata": {
    "collapsed": true
   },
   "outputs": [],
   "source": [
    "comments = items"
   ]
  },
  {
   "cell_type": "code",
   "execution_count": 13,
   "metadata": {
    "collapsed": true
   },
   "outputs": [],
   "source": [
    "items = []"
   ]
  },
  {
   "cell_type": "code",
   "execution_count": 14,
   "metadata": {},
   "outputs": [
    {
     "data": {
      "text/plain": [
       "{u'comment_id': u'4551046',\n",
       " u'date': u'October 27',\n",
       " u'html': u'Tommy\\u2019s Joynt is a couple of blocks away and is a San Francisco institution - great comfort food, inexpensive, crammed with personality and open late.',\n",
       " u'tags': [u'sanfrancisco', u'greatamericanmusichall', u'dinner'],\n",
       " u'time': u'8:12 PM',\n",
       " u'title': u'Late night dining near Great American Music Hall',\n",
       " u'url': u'http://ask.metafilter.com/315108/Late-night-dining-near-Great-American-Music-Hall'}"
      ]
     },
     "execution_count": 14,
     "metadata": {},
     "output_type": "execute_result"
    }
   ],
   "source": [
    "comments[0]"
   ]
  },
  {
   "cell_type": "code",
   "execution_count": 16,
   "metadata": {},
   "outputs": [
    {
     "data": {
      "text/plain": [
       "u'January 16, 2005'"
      ]
     },
     "execution_count": 16,
     "metadata": {},
     "output_type": "execute_result"
    }
   ],
   "source": [
    "comments[-1]['date']"
   ]
  },
  {
   "cell_type": "code",
   "execution_count": 17,
   "metadata": {
    "collapsed": true
   },
   "outputs": [],
   "source": [
    "for comment in comments:\n",
    "    if not ',' in comment['date']:\n",
    "        comment['date'] += ', 2017'"
   ]
  },
  {
   "cell_type": "code",
   "execution_count": 18,
   "metadata": {},
   "outputs": [
    {
     "data": {
      "text/plain": [
       "{u'comment_id': u'4551046',\n",
       " u'date': u'October 27, 2017',\n",
       " u'html': u'Tommy\\u2019s Joynt is a couple of blocks away and is a San Francisco institution - great comfort food, inexpensive, crammed with personality and open late.',\n",
       " u'tags': [u'sanfrancisco', u'greatamericanmusichall', u'dinner'],\n",
       " u'time': u'8:12 PM',\n",
       " u'title': u'Late night dining near Great American Music Hall',\n",
       " u'url': u'http://ask.metafilter.com/315108/Late-night-dining-near-Great-American-Music-Hall'}"
      ]
     },
     "execution_count": 18,
     "metadata": {},
     "output_type": "execute_result"
    }
   ],
   "source": [
    "comments[0]"
   ]
  },
  {
   "cell_type": "code",
   "execution_count": 19,
   "metadata": {
    "collapsed": true
   },
   "outputs": [],
   "source": [
    "from dateutil import parser"
   ]
  },
  {
   "cell_type": "code",
   "execution_count": 20,
   "metadata": {
    "collapsed": true
   },
   "outputs": [],
   "source": [
    "for comment in comments:\n",
    "    comment['datetime'] = parser.parse(comment['time'] + ' ' + comment['date']).isoformat()"
   ]
  },
  {
   "cell_type": "code",
   "execution_count": 21,
   "metadata": {},
   "outputs": [
    {
     "data": {
      "text/plain": [
       "{u'comment_id': u'4551046',\n",
       " u'date': u'October 27, 2017',\n",
       " 'datetime': '2017-10-27T20:12:00',\n",
       " u'html': u'Tommy\\u2019s Joynt is a couple of blocks away and is a San Francisco institution - great comfort food, inexpensive, crammed with personality and open late.',\n",
       " u'tags': [u'sanfrancisco', u'greatamericanmusichall', u'dinner'],\n",
       " u'time': u'8:12 PM',\n",
       " u'title': u'Late night dining near Great American Music Hall',\n",
       " u'url': u'http://ask.metafilter.com/315108/Late-night-dining-near-Great-American-Music-Hall'}"
      ]
     },
     "execution_count": 21,
     "metadata": {},
     "output_type": "execute_result"
    }
   ],
   "source": [
    "comments[0]"
   ]
  },
  {
   "cell_type": "code",
   "execution_count": 22,
   "metadata": {},
   "outputs": [
    {
     "data": {
      "text/plain": [
       "{u'comment_id': u'329865',\n",
       " u'date': u'June 20, 2005',\n",
       " 'datetime': '2005-06-20T08:18:00',\n",
       " u'html': u'The <a href=\"http://caib.nasa.gov/news/report/default.html\">official accident report</a> is surprisingly readable - I had to look at it a while back for a university project.',\n",
       " u'tags': [u'Space', u'Shuttle', u'Columbia', u'accident', u'NASA'],\n",
       " u'time': u'8:18 AM',\n",
       " u'title': u'Space Shuttle Columbia Accident',\n",
       " u'url': u'http://ask.metafilter.com/20151/Space-Shuttle-Columbia-Accident'}"
      ]
     },
     "execution_count": 22,
     "metadata": {},
     "output_type": "execute_result"
    }
   ],
   "source": [
    "comments[-3]"
   ]
  },
  {
   "cell_type": "code",
   "execution_count": 23,
   "metadata": {
    "collapsed": true
   },
   "outputs": [],
   "source": [
    "comments.sort(key = lambda c: c['datetime'])"
   ]
  },
  {
   "cell_type": "code",
   "execution_count": 29,
   "metadata": {},
   "outputs": [],
   "source": [
    "items = []\n",
    "items_by_url = {}\n",
    "for comment in comments:\n",
    "    url = comment['url']\n",
    "    if url in items_by_url:\n",
    "        item = items_by_url[url]\n",
    "    else:\n",
    "        item = {\n",
    "            'url': url,\n",
    "            'datetime': comment['datetime'],\n",
    "            'title': comment['title'],\n",
    "            'comments': [],\n",
    "            'tags': comment['tags'],\n",
    "        }\n",
    "    item['comments'].append({\n",
    "        'id': comment['comment_id'],\n",
    "        'datetime': comment['datetime'],\n",
    "        'html': comment['html']\n",
    "    })\n",
    "    if url not in items_by_url:\n",
    "        items.append(item)\n",
    "        items_by_url[url] = item\n"
   ]
  },
  {
   "cell_type": "code",
   "execution_count": 30,
   "metadata": {},
   "outputs": [
    {
     "data": {
      "text/plain": [
       "55"
      ]
     },
     "execution_count": 30,
     "metadata": {},
     "output_type": "execute_result"
    }
   ],
   "source": [
    "len(items)"
   ]
  },
  {
   "cell_type": "code",
   "execution_count": 31,
   "metadata": {},
   "outputs": [
    {
     "data": {
      "text/plain": [
       "{'comments': [{'datetime': '2005-01-16T14:08:00',\n",
       "   'html': u'I\\'m a big fan of eBags.com for this kind of thing, because it lets you <a href=\"http://www.ebags.com/business_cases/laptop_cases/category_search/index.cfm?N=4001+2006675\">pick the model of your laptop</a> and then tells you which bags it will fit in. I bought a bag from there last year and the e-commerce / delivery side of things was flawless.',\n",
       "   'id': u'242583'}],\n",
       " 'datetime': '2005-01-16T14:08:00',\n",
       " 'tags': [u'backpacks', u'laptops', u'style', u'accessories', u'bags'],\n",
       " 'title': u'I need a new backpack',\n",
       " 'url': u'http://ask.metafilter.com/14075/I-need-a-new-backpack'}"
      ]
     },
     "execution_count": 31,
     "metadata": {},
     "output_type": "execute_result"
    }
   ],
   "source": [
    "items[0]"
   ]
  },
  {
   "cell_type": "code",
   "execution_count": 32,
   "metadata": {},
   "outputs": [
    {
     "data": {
      "text/plain": [
       "{'comments': [{'datetime': '2017-10-27T20:12:00',\n",
       "   'html': u'Tommy\\u2019s Joynt is a couple of blocks away and is a San Francisco institution - great comfort food, inexpensive, crammed with personality and open late.',\n",
       "   'id': u'4551046'}],\n",
       " 'datetime': '2017-10-27T20:12:00',\n",
       " 'tags': [u'sanfrancisco', u'greatamericanmusichall', u'dinner'],\n",
       " 'title': u'Late night dining near Great American Music Hall',\n",
       " 'url': u'http://ask.metafilter.com/315108/Late-night-dining-near-Great-American-Music-Hall'}"
      ]
     },
     "execution_count": 32,
     "metadata": {},
     "output_type": "execute_result"
    }
   ],
   "source": [
    "items[-1]"
   ]
  },
  {
   "cell_type": "code",
   "execution_count": 108,
   "metadata": {
    "collapsed": true
   },
   "outputs": [],
   "source": [
    "\n",
    "def body_for_item(item):\n",
    "    url = item['url']\n",
    "    comments = item['comments']\n",
    "    if len(comments) == 1:\n",
    "        url += '#' + comments[0]['id']\n",
    "    start_p = [\n",
    "        '<p><em>My answer to <a href=\"%s\">%s</a> on Ask MetaFilter</em></p>' % (\n",
    "            url, item['title']\n",
    "        )\n",
    "    ]\n",
    "    bits = []\n",
    "    bits.append(comments[0]['html'])\n",
    "    if len(comments) > 1:\n",
    "        for comment in comments[1:]:\n",
    "            bits.append('<br />\\n<br /><em>Then <a href=\"%s\">at %s</a>:</em><br />\\n<br />' % (\n",
    "                url + '#' + comment['id'],\n",
    "                parser.parse(comment['datetime']).strftime('%H:%M')\n",
    "            ))\n",
    "            bits.append(comment['html'])\n",
    "    done = '\\n'.join(bits)\n",
    "    done = done.replace('\\r\\n', '\\n')\n",
    "    # Turn <br><br> into paragraphs instead\n",
    "    paragraphs = done.split('<br />\\n<br />')\n",
    "    return '\\n'.join(start_p + ['<p>%s</p>' % p.strip() for p in paragraphs])\n"
   ]
  },
  {
   "cell_type": "code",
   "execution_count": 109,
   "metadata": {},
   "outputs": [],
   "source": [
    "nile = [i for i in items if 'Nile' in i['title']][0]"
   ]
  },
  {
   "cell_type": "code",
   "execution_count": 110,
   "metadata": {},
   "outputs": [
    {
     "name": "stdout",
     "output_type": "stream",
     "text": [
      "<p><em>My answer to <a href=\"http://ask.metafilter.com/167075/Nile-Cruises-Does-the-Oberoi-Shehrayar-actually-exist\">Nile Cruises: Does the \"Oberoi Shehrayar\" actually exist?</a> on Ask MetaFilter</em></p>\n",
      "<p>Yeah, that's the site he showed us I think. I'm leaning towards &quot;bog standard Nile Cruiser adopts confusing name to try and get ahead of the rest&quot; as the explanation at the moment. There are 270 cruisers on the Nile, after all.</p>\n",
      "<p><em>Then <a href=\"http://ask.metafilter.com/167075/Nile-Cruises-Does-the-Oberoi-Shehrayar-actually-exist#2402202\">at 11:54</a>:</em></p>\n",
      "<p>Another data point: http://www.luxurynilecruisers.com/tariff.htm is one of the top hits on Google for that ship... but the price list hasn't been updated since 2007. Most of the reviews I've found are from years ago as well, I don't think I've found one dated 2010 or 2009 yet.</p>\n",
      "<p><em>Then <a href=\"http://ask.metafilter.com/167075/Nile-Cruises-Does-the-Oberoi-Shehrayar-actually-exist#2402206\">at 11:56</a>:</em></p>\n",
      "<p>And another thing... most of the photos on this website (which he showed us) actually 404 if you click on them: <a href=\"http://www.safariegypt.com/egypt_nile_cruise/oberoiShehrayar/photos/Photo_01_OberoiSherayar.htm\">http://www.safariegypt.com/egypt_nile_cruise/oberoiShehrayar/photos/Photo_01_OberoiSherayar.htm</a></p>\n",
      "<p><em>Then <a href=\"http://ask.metafilter.com/167075/Nile-Cruises-Does-the-Oberoi-Shehrayar-actually-exist#2404105\">at 14:44</a>:</em></p>\n",
      "<p>Update: we've seen the boat now, so it definitely exists! As far as we can tell it's an ex-Oberoi boat, now operated by a different company (Miser travel). It looks like they've taken the &quot;Oberoi&quot; part of the name off the boat now (there are some faded areas on the side of the ship that look like they might have once held those letters) and don't seem to  be marketing it as anything other than the M/S Shehrayar.</p>\n",
      "<p>We've gone ahead with the booking.</p>\n"
     ]
    }
   ],
   "source": [
    "print body_for_item(nile)"
   ]
  },
  {
   "cell_type": "code",
   "execution_count": 83,
   "metadata": {},
   "outputs": [
    {
     "data": {
      "text/plain": [
       "[{'datetime': '2005-01-16T14:08:00',\n",
       "  'html': u'I\\'m a big fan of eBags.com for this kind of thing, because it lets you <a href=\"http://www.ebags.com/business_cases/laptop_cases/category_search/index.cfm?N=4001+2006675\">pick the model of your laptop</a> and then tells you which bags it will fit in. I bought a bag from there last year and the e-commerce / delivery side of things was flawless.',\n",
       "  'id': u'242583'}]"
      ]
     },
     "execution_count": 83,
     "metadata": {},
     "output_type": "execute_result"
    }
   ],
   "source": [
    "items[0]['comments']"
   ]
  },
  {
   "cell_type": "code",
   "execution_count": 111,
   "metadata": {
    "collapsed": true
   },
   "outputs": [],
   "source": [
    "for item in items:\n",
    "    item['body'] = body_for_item(item)"
   ]
  },
  {
   "cell_type": "code",
   "execution_count": 85,
   "metadata": {
    "collapsed": true
   },
   "outputs": [],
   "source": [
    "def slugify(s):\n",
    "    return '-'.join(badchar.sub('', s.lower()).split()[:5])"
   ]
  },
  {
   "cell_type": "code",
   "execution_count": 55,
   "metadata": {
    "collapsed": true
   },
   "outputs": [],
   "source": [
    "import re\n",
    "badchar = re.compile('[^a-zA-Z0-9 ]')"
   ]
  },
  {
   "cell_type": "code",
   "execution_count": 56,
   "metadata": {},
   "outputs": [
    {
     "data": {
      "text/plain": [
       "u'i-need-a-new-backpack'"
      ]
     },
     "execution_count": 56,
     "metadata": {},
     "output_type": "execute_result"
    }
   ],
   "source": [
    "slugify(items[0]['title'])"
   ]
  },
  {
   "cell_type": "code",
   "execution_count": 57,
   "metadata": {},
   "outputs": [
    {
     "data": {
      "text/plain": [
       "[u'i-need-a-new-backpack',\n",
       " u'do-content-management-systems-really',\n",
       " u'space-shuttle-columbia-accident',\n",
       " u'get-tickets-for-filming-of',\n",
       " u'can-social-bookmarking-services-prevent',\n",
       " u'what-are-some-good-software',\n",
       " u'patching-windows-xp-from-burned',\n",
       " u'so-long-safari',\n",
       " u'what-is-the-physically-smallest',\n",
       " u'sending-a-postal-letter-via',\n",
       " u'how-is-google-giving-me',\n",
       " u'how-can-my-nontechsavvy-mum',\n",
       " u'warning-this-is-a-bad',\n",
       " u'stupid-computersdo-what-i-want',\n",
       " u'san-diego-tell-me-more',\n",
       " u'problems-with-xhtml-content-type',\n",
       " u'help-me-figure-out-my',\n",
       " u'what-to-do-on-vacation',\n",
       " u'website-for-the-masses',\n",
       " u'getting-from-point-a-to',\n",
       " u'nile-cruises-does-the-oberoi',\n",
       " u'weekend-travel-in-europe',\n",
       " u'im-in-polanco-mexico-city',\n",
       " u'help-with-next-steps-for',\n",
       " u'lets-make-moving-and-packing',\n",
       " u'lovecraftinspired-fiction-and-cookbooks-unrelated',\n",
       " u'need-new-noms',\n",
       " u'difficulty-level-eating-dumplings',\n",
       " u'japanese-pantry-staples',\n",
       " u'where-should-we-stay-in',\n",
       " u'probably-need-to-gtfo-another',\n",
       " u'practical-gift-ideas-to-positively',\n",
       " u'tell-me-when-to-quit',\n",
       " u'generating-interactive-html-charts-from',\n",
       " u'good-travel-book-for-recently',\n",
       " u'best-way-to-take-shareable',\n",
       " u'off-the-shelf-question-databasemanagement',\n",
       " u'how-to-tell-my-bosses',\n",
       " u'wireless-access-points-or-mesh',\n",
       " u'simple-delicious-eating-during-long',\n",
       " u'help-us-plan-a-trip',\n",
       " u'a-guide-to-the-guides',\n",
       " u'san-francisco-recommendations-comics-fashion',\n",
       " u'where-to-find-wellbalanced-rationals',\n",
       " u'podcasts-to-love-and-fall',\n",
       " u'work-process-vs-technology',\n",
       " u'where-do-you-like-to',\n",
       " u'how-do-i-receive-automatic',\n",
       " u'looking-for-a-modern-day',\n",
       " u'podcasts-for-commuting-to',\n",
       " u'a-thing-to-do-in',\n",
       " u'free-afternoon-in-san-francisco',\n",
       " u'software-or-project-management-technique',\n",
       " u'how-to-kumbaya-with-the',\n",
       " u'late-night-dining-near-great']"
      ]
     },
     "execution_count": 57,
     "metadata": {},
     "output_type": "execute_result"
    }
   ],
   "source": [
    "[slugify(i['title']) for i in items]"
   ]
  },
  {
   "cell_type": "code",
   "execution_count": 112,
   "metadata": {
    "collapsed": true
   },
   "outputs": [],
   "source": [
    "for item in items:\n",
    "    item['slug'] = slugify(item['title'])\n",
    "    item['type'] = 'entry'"
   ]
  },
  {
   "cell_type": "code",
   "execution_count": 113,
   "metadata": {},
   "outputs": [],
   "source": [
    "import json\n",
    "open('/tmp/items.json', 'w').write(json.dumps(items, indent=2))"
   ]
  },
  {
   "cell_type": "code",
   "execution_count": 114,
   "metadata": {
    "collapsed": true
   },
   "outputs": [],
   "source": [
    "!cat /tmp/items.json | pbcopy"
   ]
  },
  {
   "cell_type": "code",
   "execution_count": 86,
   "metadata": {},
   "outputs": [
    {
     "name": "stdout",
     "output_type": "stream",
     "text": [
      "<p><em>My answer to <a href=\"http://ask.metafilter.com/305383/Podcasts-to-love-and-fall-asleep-to#4421965\">Podcasts to love and fall asleep to</a> on Ask MetaFilter</em></p>\n",
      "<p>Not technically podcasts but the BBC's radio output is still free to listen to from anywhere in the world (no ads!) and helps me get to sleep most nights. I just hit play in the browser on my phone.</p>\n",
      "<p>I tend to start from this page of recent comedy releases: <a href=\"http://www.bbc.co.uk/radio/programmes/genres/comedy/player/episodes\">http://www.bbc.co.uk/radio/programmes/genres/comedy/player/episodes</a></p>\n",
      "<p>Stuff is available for 30 days after it is broadcast. There are a few episodes of Cabin Pressure up at the moment which is a particular favorite.</p>\n"
     ]
    }
   ],
   "source": [
    "print items[44]['body']"
   ]
  },
  {
   "cell_type": "code",
   "execution_count": null,
   "metadata": {
    "collapsed": true
   },
   "outputs": [],
   "source": []
  }
 ],
 "metadata": {
  "kernelspec": {
   "display_name": "Python 2",
   "language": "python",
   "name": "python2"
  },
  "language_info": {
   "codemirror_mode": {
    "name": "ipython",
    "version": 2
   },
   "file_extension": ".py",
   "mimetype": "text/x-python",
   "name": "python",
   "nbconvert_exporter": "python",
   "pygments_lexer": "ipython2",
   "version": "2.7.12"
  }
 },
 "nbformat": 4,
 "nbformat_minor": 2
}
